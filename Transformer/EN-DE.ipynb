{
 "cells": [
  {
   "cell_type": "code",
   "execution_count": 3,
   "metadata": {},
   "outputs": [
    {
     "name": "stderr",
     "output_type": "stream",
     "text": [
      "/Users/justin/anaconda3/envs/py3.11/lib/python3.11/site-packages/tqdm/auto.py:21: TqdmWarning: IProgress not found. Please update jupyter and ipywidgets. See https://ipywidgets.readthedocs.io/en/stable/user_install.html\n",
      "  from .autonotebook import tqdm as notebook_tqdm\n"
     ]
    }
   ],
   "source": [
    "import torch\n",
    "from transformers import MarianMTModel, MarianTokenizer\n",
    "\n",
    "from test_utils import *\n",
    "\n",
    "import json"
   ]
  },
  {
   "cell_type": "code",
   "execution_count": 11,
   "metadata": {
    "metadata": {}
   },
   "outputs": [
    {
     "data": {
      "text/plain": [
       "MarianMTModel(\n",
       "  (model): MarianModel(\n",
       "    (shared): Embedding(58101, 512, padding_idx=58100)\n",
       "    (encoder): MarianEncoder(\n",
       "      (embed_tokens): Embedding(58101, 512, padding_idx=58100)\n",
       "      (embed_positions): MarianSinusoidalPositionalEmbedding(512, 512)\n",
       "      (layers): ModuleList(\n",
       "        (0-5): 6 x MarianEncoderLayer(\n",
       "          (self_attn): MarianAttention(\n",
       "            (k_proj): Linear(in_features=512, out_features=512, bias=True)\n",
       "            (v_proj): Linear(in_features=512, out_features=512, bias=True)\n",
       "            (q_proj): Linear(in_features=512, out_features=512, bias=True)\n",
       "            (out_proj): Linear(in_features=512, out_features=512, bias=True)\n",
       "          )\n",
       "          (self_attn_layer_norm): LayerNorm((512,), eps=1e-05, elementwise_affine=True)\n",
       "          (activation_fn): SiLU()\n",
       "          (fc1): Linear(in_features=512, out_features=2048, bias=True)\n",
       "          (fc2): Linear(in_features=2048, out_features=512, bias=True)\n",
       "          (final_layer_norm): LayerNorm((512,), eps=1e-05, elementwise_affine=True)\n",
       "        )\n",
       "      )\n",
       "    )\n",
       "    (decoder): MarianDecoder(\n",
       "      (embed_tokens): Embedding(58101, 512, padding_idx=58100)\n",
       "      (embed_positions): MarianSinusoidalPositionalEmbedding(512, 512)\n",
       "      (layers): ModuleList(\n",
       "        (0-5): 6 x MarianDecoderLayer(\n",
       "          (self_attn): MarianAttention(\n",
       "            (k_proj): Linear(in_features=512, out_features=512, bias=True)\n",
       "            (v_proj): Linear(in_features=512, out_features=512, bias=True)\n",
       "            (q_proj): Linear(in_features=512, out_features=512, bias=True)\n",
       "            (out_proj): Linear(in_features=512, out_features=512, bias=True)\n",
       "          )\n",
       "          (activation_fn): SiLU()\n",
       "          (self_attn_layer_norm): LayerNorm((512,), eps=1e-05, elementwise_affine=True)\n",
       "          (encoder_attn): MarianAttention(\n",
       "            (k_proj): Linear(in_features=512, out_features=512, bias=True)\n",
       "            (v_proj): Linear(in_features=512, out_features=512, bias=True)\n",
       "            (q_proj): Linear(in_features=512, out_features=512, bias=True)\n",
       "            (out_proj): Linear(in_features=512, out_features=512, bias=True)\n",
       "          )\n",
       "          (encoder_attn_layer_norm): LayerNorm((512,), eps=1e-05, elementwise_affine=True)\n",
       "          (fc1): Linear(in_features=512, out_features=2048, bias=True)\n",
       "          (fc2): Linear(in_features=2048, out_features=512, bias=True)\n",
       "          (final_layer_norm): LayerNorm((512,), eps=1e-05, elementwise_affine=True)\n",
       "        )\n",
       "      )\n",
       "    )\n",
       "  )\n",
       "  (lm_head): Linear(in_features=512, out_features=58101, bias=False)\n",
       ")"
      ]
     },
     "execution_count": 11,
     "metadata": {},
     "output_type": "execute_result"
    }
   ],
   "source": [
    "# Load the tokenizer and model\n",
    "model_name = \"Helsinki-NLP/opus-mt-en-de\"\n",
    "tokenizer = MarianTokenizer.from_pretrained(model_name)\n",
    "model = MarianMTModel.from_pretrained(model_name)\n",
    "model.eval()\n"
   ]
  },
  {
   "cell_type": "code",
   "execution_count": 39,
   "metadata": {
    "metadata": {}
   },
   "outputs": [],
   "source": [
    "from datasets import load_dataset\n",
    "\n",
    "# Load the WMT14 English-German dataset\n",
    "dataset = load_dataset('wmt19', 'de-en', split='validation')\n"
   ]
  },
  {
   "cell_type": "code",
   "execution_count": 46,
   "metadata": {
    "metadata": {}
   },
   "outputs": [],
   "source": [
    "import random\n",
    "\n",
    "# Sample a subset of the dataset for quicker evaluation\n",
    "sample_size = 100  # Adjust as needed\n",
    "sampled_dataset = dataset.shuffle(seed=42).select(range(sample_size))\n",
    "\n",
    "# Prepare the references and generate translations\n",
    "references = sampled_dataset['translation']\n",
    "source_texts = [item['en'] for item in references]\n",
    "target_texts = [item['de'] for item in references]\n"
   ]
  },
  {
   "cell_type": "code",
   "execution_count": 53,
   "metadata": {},
   "outputs": [],
   "source": [
    "# Create a dictionary to store the texts\n",
    "data = {\n",
    "    'source_texts': source_texts,\n",
    "    'target_texts': target_texts\n",
    "}\n",
    "\n",
    "# Save the dictionary to a JSON file\n",
    "with open('translations.json', 'w', encoding='utf-8') as f:\n",
    "    json.dump(data, f, ensure_ascii=False, indent=4)"
   ]
  },
  {
   "cell_type": "code",
   "execution_count": 23,
   "metadata": {},
   "outputs": [],
   "source": [
    "# Load the JSON file\n",
    "with open('translations.json', 'r', encoding='utf-8') as f:\n",
    "    data = json.load(f)\n",
    "\n",
    "# Extract the source and target texts\n",
    "source_texts = data['source_texts']\n",
    "target_texts = data['target_texts']"
   ]
  },
  {
   "cell_type": "code",
   "execution_count": 25,
   "metadata": {
    "metadata": {}
   },
   "outputs": [
    {
     "name": "stderr",
     "output_type": "stream",
     "text": [
      "[nltk_data] Downloading package punkt to /Users/justin/nltk_data...\n",
      "[nltk_data]   Package punkt is already up-to-date!\n"
     ]
    }
   ],
   "source": [
    "import nltk\n",
    "from nltk.translate.bleu_score import corpus_bleu, SmoothingFunction\n",
    "\n",
    "# Ensure nltk is installed\n",
    "nltk.download('punkt')\n",
    "\n",
    "def compute_bleu_score(model,source_texts,target_texts):\n",
    "    # Tokenize and generate translations\n",
    "    generated_texts = []\n",
    "    for source in source_texts:\n",
    "        inputs = tokenizer.encode(source, return_tensors='pt', max_length=512, truncation=True)\n",
    "        with torch.no_grad():\n",
    "            translated_tokens = model.generate(inputs, max_length=512, num_beams=5, early_stopping=True)\n",
    "        generated_text = tokenizer.decode(translated_tokens[0], skip_special_tokens=True)\n",
    "        generated_texts.append(generated_text)\n",
    "\n",
    "    # Tokenize the reference and generated texts\n",
    "    tokenized_references = [[nltk.word_tokenize(text)] for text in target_texts]\n",
    "    tokenized_generated_texts = [nltk.word_tokenize(text) for text in generated_texts]\n",
    "\n",
    "    # Calculate BLEU score\n",
    "    smoothie = SmoothingFunction().method4\n",
    "    bleu_score = corpus_bleu(tokenized_references, tokenized_generated_texts, smoothing_function=smoothie)\n",
    "\n",
    "    return bleu_score*100\n"
   ]
  },
  {
   "cell_type": "code",
   "execution_count": 30,
   "metadata": {},
   "outputs": [],
   "source": [
    "def compute_character_fscore(model, source_texts, target_texts):\n",
    "    \"\"\"\n",
    "    Compute the character-level F1 score of a language model given source and target texts.\n",
    "    \n",
    "    Parameters:\n",
    "    - model: The pre-trained language model (e.g., from Hugging Face transformers).\n",
    "    - source_texts: A list of input texts to provide context for the model.\n",
    "    - target_texts: A list of texts that the model is expected to predict.\n",
    "    - tokenizer: The tokenizer corresponding to the model.\n",
    "    \n",
    "    Returns:\n",
    "    - f1_score: The character-level F1 score of the model on the given texts.\n",
    "    \"\"\"\n",
    "    \n",
    "    # Ensure the model is in evaluation mode\n",
    "    model.eval()\n",
    "    \n",
    "    total_precision = 0.0\n",
    "    total_recall = 0.0\n",
    "    total_f1 = 0.0\n",
    "    num_samples = len(source_texts)\n",
    "    \n",
    "    # Iterate over the source and target texts\n",
    "    for source_text, target_text in zip(source_texts, target_texts):\n",
    "        \n",
    "        # Encode the input text\n",
    "        inputs = tokenizer(source_text, return_tensors='pt')\n",
    "\n",
    "        # Generate model outputs\n",
    "        with torch.no_grad():\n",
    "            outputs = model.generate(**inputs)\n",
    "        \n",
    "        # Decode the generated text\n",
    "        predicted_text = tokenizer.decode(outputs[0], skip_special_tokens=True)\n",
    "\n",
    "        # Calculate true positives, false positives, and false negatives\n",
    "        target_chars = list(target_text)\n",
    "        predicted_chars = list(predicted_text)\n",
    "        \n",
    "        true_positives = sum(1 for c1, c2 in zip(target_chars, predicted_chars) if c1 == c2)\n",
    "        false_positives = len(predicted_chars) - true_positives\n",
    "        false_negatives = len(target_chars) - true_positives\n",
    "\n",
    "        # Calculate precision, recall, and F1 score for the current sample\n",
    "        precision = true_positives / (true_positives + false_positives) if (true_positives + false_positives) > 0 else 0\n",
    "        recall = true_positives / (true_positives + false_negatives) if (true_positives + false_negatives) > 0 else 0\n",
    "        f1 = (2 * precision * recall) / (precision + recall) if (precision + recall) > 0 else 0\n",
    "        \n",
    "        total_precision += precision\n",
    "        total_recall += recall\n",
    "        total_f1 += f1\n",
    "\n",
    "    # Average F1 score across all samples\n",
    "    avg_f1_score = total_f1 / num_samples\n",
    "    \n",
    "    return avg_f1_score\n"
   ]
  },
  {
   "cell_type": "markdown",
   "metadata": {},
   "source": [
    "# Entire dataset performance metrics"
   ]
  },
  {
   "cell_type": "code",
   "execution_count": 41,
   "metadata": {},
   "outputs": [],
   "source": [
    "baseline_bleu = compute_bleu_score(model,source_texts,target_texts)"
   ]
  },
  {
   "cell_type": "code",
   "execution_count": 42,
   "metadata": {},
   "outputs": [
    {
     "data": {
      "text/plain": [
       "44.80491948805421"
      ]
     },
     "execution_count": 42,
     "metadata": {},
     "output_type": "execute_result"
    }
   ],
   "source": [
    "baseline_bleu"
   ]
  },
  {
   "cell_type": "code",
   "execution_count": 43,
   "metadata": {},
   "outputs": [],
   "source": [
    "baseline_fscore = compute_character_fscore(model,source_texts,target_texts)"
   ]
  },
  {
   "cell_type": "code",
   "execution_count": 44,
   "metadata": {},
   "outputs": [
    {
     "data": {
      "text/plain": [
       "0.28087010200354723"
      ]
     },
     "execution_count": 44,
     "metadata": {},
     "output_type": "execute_result"
    }
   ],
   "source": [
    "baseline_fscore"
   ]
  },
  {
   "cell_type": "markdown",
   "metadata": {},
   "source": [
    "# Sampled dataset performance metrics"
   ]
  },
  {
   "cell_type": "code",
   "execution_count": 47,
   "metadata": {},
   "outputs": [],
   "source": [
    "baseline_bleu = compute_bleu_score(model,source_texts,target_texts)"
   ]
  },
  {
   "cell_type": "code",
   "execution_count": 48,
   "metadata": {},
   "outputs": [
    {
     "data": {
      "text/plain": [
       "46.82103167541074"
      ]
     },
     "execution_count": 48,
     "metadata": {},
     "output_type": "execute_result"
    }
   ],
   "source": [
    "baseline_bleu"
   ]
  },
  {
   "cell_type": "code",
   "execution_count": 49,
   "metadata": {},
   "outputs": [],
   "source": [
    "baseline_fscore = compute_character_fscore(model,source_texts,target_texts)"
   ]
  },
  {
   "cell_type": "code",
   "execution_count": 50,
   "metadata": {},
   "outputs": [
    {
     "data": {
      "text/plain": [
       "0.3053150029579369"
      ]
     },
     "execution_count": 50,
     "metadata": {},
     "output_type": "execute_result"
    }
   ],
   "source": [
    "baseline_fscore"
   ]
  },
  {
   "cell_type": "code",
   "execution_count": 10,
   "metadata": {
    "metadata": {}
   },
   "outputs": [
    {
     "data": {
      "text/plain": [
       "MarianEncoder(\n",
       "  (embed_tokens): Embedding(58101, 512, padding_idx=58100)\n",
       "  (embed_positions): MarianSinusoidalPositionalEmbedding(512, 512)\n",
       "  (layers): ModuleList(\n",
       "    (0-5): 6 x MarianEncoderLayer(\n",
       "      (self_attn): MarianAttention(\n",
       "        (k_proj): Linear(in_features=512, out_features=512, bias=True)\n",
       "        (v_proj): Linear(in_features=512, out_features=512, bias=True)\n",
       "        (q_proj): Linear(in_features=512, out_features=512, bias=True)\n",
       "        (out_proj): Linear(in_features=512, out_features=512, bias=True)\n",
       "      )\n",
       "      (self_attn_layer_norm): LayerNorm((512,), eps=1e-05, elementwise_affine=True)\n",
       "      (activation_fn): SiLU()\n",
       "      (fc1): Linear(in_features=512, out_features=2048, bias=True)\n",
       "      (fc2): Linear(in_features=2048, out_features=512, bias=True)\n",
       "      (final_layer_norm): LayerNorm((512,), eps=1e-05, elementwise_affine=True)\n",
       "    )\n",
       "  )\n",
       ")"
      ]
     },
     "execution_count": 10,
     "metadata": {},
     "output_type": "execute_result"
    }
   ],
   "source": [
    "model.model.encoder"
   ]
  },
  {
   "cell_type": "code",
   "execution_count": 11,
   "metadata": {},
   "outputs": [],
   "source": [
    "atten_block = model.model.encoder.layers[0].self_attn"
   ]
  },
  {
   "cell_type": "code",
   "execution_count": 12,
   "metadata": {},
   "outputs": [],
   "source": [
    "k_weight = atten_block.k_proj.weight.detach().clone().numpy()"
   ]
  },
  {
   "cell_type": "code",
   "execution_count": 13,
   "metadata": {},
   "outputs": [
    {
     "data": {
      "text/plain": [
       "array([[-0.0431658 ,  0.05314786,  0.01992885, ...,  0.05150389,\n",
       "        -0.05855705, -0.06797506],\n",
       "       [ 0.03430727, -0.03185176, -0.02637685, ..., -0.00773765,\n",
       "         0.03985396,  0.02887879],\n",
       "       [ 0.00455057, -0.00745978,  0.09381308, ..., -0.0922135 ,\n",
       "        -0.13821538, -0.01102295],\n",
       "       ...,\n",
       "       [-0.03620727,  0.01365876,  0.05509148, ..., -0.01048039,\n",
       "         0.00950968, -0.06236786],\n",
       "       [-0.02010291,  0.08748431,  0.06102307, ...,  0.04928866,\n",
       "        -0.11875598,  0.09157822],\n",
       "       [-0.00318049,  0.05060565, -0.01177562, ...,  0.07342083,\n",
       "        -0.03669421,  0.01891214]], dtype=float32)"
      ]
     },
     "execution_count": 13,
     "metadata": {},
     "output_type": "execute_result"
    }
   ],
   "source": [
    "k_weight"
   ]
  },
  {
   "cell_type": "code",
   "execution_count": 14,
   "metadata": {},
   "outputs": [],
   "source": [
    "def extract_weight_array(layer):\n",
    "    atten_block = layer.self_attn\n",
    "    \n",
    "    k_weight = atten_block.k_proj.weight.detach().clone().numpy()\n",
    "    v_weight = atten_block.v_proj.weight.detach().clone().numpy()\n",
    "    q_weight = atten_block.q_proj.weight.detach().clone().numpy()\n",
    "\n",
    "    return [k_weight,v_weight,q_weight]"
   ]
  },
  {
   "cell_type": "code",
   "execution_count": 15,
   "metadata": {},
   "outputs": [],
   "source": [
    "original_atten_block_weight_array_0 = extract_weight_array(model.model.encoder.layers[0])\n",
    "original_atten_block_weight_array_1 = extract_weight_array(model.model.encoder.layers[1])\n",
    "original_atten_block_weight_array_2 = extract_weight_array(model.model.encoder.layers[2])\n",
    "original_atten_block_weight_array_3 = extract_weight_array(model.model.encoder.layers[3])\n",
    "original_atten_block_weight_array_4 = extract_weight_array(model.model.encoder.layers[4])\n",
    "original_atten_block_weight_array_5 = extract_weight_array(model.model.encoder.layers[5])"
   ]
  },
  {
   "cell_type": "code",
   "execution_count": 17,
   "metadata": {},
   "outputs": [],
   "source": [
    "set_layer_weight(model.model.encoder.layers[0],original_atten_block_weight_array_0)"
   ]
  },
  {
   "cell_type": "code",
   "execution_count": 18,
   "metadata": {},
   "outputs": [
    {
     "data": {
      "text/plain": [
       "46.82103167541074"
      ]
     },
     "execution_count": 18,
     "metadata": {},
     "output_type": "execute_result"
    }
   ],
   "source": [
    "baseline_bleu"
   ]
  },
  {
   "cell_type": "code",
   "execution_count": 55,
   "metadata": {},
   "outputs": [],
   "source": [
    "bleu = compute_bleu_score(model,source_texts,target_texts)"
   ]
  },
  {
   "cell_type": "code",
   "execution_count": 56,
   "metadata": {},
   "outputs": [
    {
     "data": {
      "text/plain": [
       "46.82103167541074"
      ]
     },
     "execution_count": 56,
     "metadata": {},
     "output_type": "execute_result"
    }
   ],
   "source": [
    "bleu"
   ]
  },
  {
   "cell_type": "code",
   "execution_count": 51,
   "metadata": {},
   "outputs": [],
   "source": [
    "import sys\n",
    "sys.path.append('/Users/justin/Desktop/Imperial/Year 4/FYP/Code/main')\n",
    "from iterative_approximation.Algorithm1 import *\n",
    "\n",
    "import sys\n",
    "sys.path.append('/Users/justin/Desktop/Imperial/Year 4/FYP/Code')\n",
    "from iterative_approximation.Algorithm2 import *\n",
    "from iterative_approximation.Algorithm2Step import *\n",
    "from iterative_approximation.Algorithm2StepPruning import *\n",
    "from iterative_approximation.Algorithm1 import *\n",
    "import itertools\n",
    "from utils.generate_groupings import *\n",
    "import matplotlib.cm as cm\n",
    "from iterative_approximation.quantizer import *\n",
    "\n",
    "from utils.load_layer_weights_from_txt import *\n",
    "from utils.save_layer_weight_to_txt import *"
   ]
  },
  {
   "cell_type": "code",
   "execution_count": 70,
   "metadata": {},
   "outputs": [],
   "source": [
    "def set_layer_weight(layer,atten_block_weight_array,quantizer=False,precision=32):\n",
    "    if quantizer:\n",
    "        # print(atten_block_weight_array[0])\n",
    "        # print(integer_quantize(atten_block_weight_array[0], width=precision, frac_width=precision-4, is_signed=True))\n",
    "        layer.self_attn.k_proj.weight.data = torch.tensor(integer_quantize(atten_block_weight_array[0], width=precision, frac_width=precision-4, is_signed=True),dtype=torch.float32)\n",
    "        layer.self_attn.v_proj.weight.data = torch.tensor(integer_quantize(atten_block_weight_array[1], width=precision, frac_width=precision-4, is_signed=True),dtype=torch.float32)\n",
    "        layer.self_attn.q_proj.weight.data = torch.tensor(integer_quantize(atten_block_weight_array[2], width=precision, frac_width=precision-4, is_signed=True),dtype=torch.float32)\n",
    "    else:\n",
    "        layer.self_attn.k_proj.weight.data = torch.tensor(atten_block_weight_array[0],dtype=torch.float32)\n",
    "        layer.self_attn.v_proj.weight.data = torch.tensor(atten_block_weight_array[1],dtype=torch.float32)\n",
    "        layer.self_attn.q_proj.weight.data = torch.tensor(atten_block_weight_array[2],dtype=torch.float32)\n",
    "    # layer.self_attn.q_proj.weight.data = torch.randn_like(layer.self_attn.q_proj.weight.data)"
   ]
  },
  {
   "cell_type": "code",
   "execution_count": 22,
   "metadata": {},
   "outputs": [],
   "source": [
    "W0 = WeightArrayStepPruning(original_atten_block_weight_array_0,'array',0.001,512,512,1,1)\n",
    "W1 = WeightArrayStepPruning(original_atten_block_weight_array_1,'array',0.001,512,512,1,1)\n",
    "W2 = WeightArrayStepPruning(original_atten_block_weight_array_2,'array',0.001,512,512,1,1)\n",
    "W3 = WeightArrayStepPruning(original_atten_block_weight_array_3,'array',0.001,512,512,1,1)\n",
    "W4 = WeightArrayStepPruning(original_atten_block_weight_array_4,'array',0.001,512,512,1,1)\n",
    "W5 = WeightArrayStepPruning(original_atten_block_weight_array_5,'array',0.001,512,512,1,1)"
   ]
  },
  {
   "cell_type": "code",
   "execution_count": 81,
   "metadata": {},
   "outputs": [],
   "source": [
    "set_layer_weight(model.model.encoder.layers[0],original_atten_block_weight_array_0)\n",
    "set_layer_weight(model.model.encoder.layers[1],original_atten_block_weight_array_1)\n",
    "set_layer_weight(model.model.encoder.layers[2],original_atten_block_weight_array_2)\n",
    "set_layer_weight(model.model.encoder.layers[3],original_atten_block_weight_array_3)\n",
    "set_layer_weight(model.model.encoder.layers[4],original_atten_block_weight_array_4)\n",
    "set_layer_weight(model.model.encoder.layers[5],original_atten_block_weight_array_5)\n",
    "\n",
    "mse = []\n",
    "bleu_scores = []\n",
    "\n",
    "for i in range(50):\n",
    "    atten_block_weight_array_0 = W0.iterative_approximation_step1()\n",
    "    atten_block_weight_array_1 = W1.iterative_approximation_step1()\n",
    "    atten_block_weight_array_2 = W2.iterative_approximation_step1()\n",
    "    atten_block_weight_array_3 = W3.iterative_approximation_step1()\n",
    "    atten_block_weight_array_4 = W4.iterative_approximation_step1()\n",
    "    atten_block_weight_array_5 = W5.iterative_approximation_step1()\n",
    "    W0_MSE = (W0.average_mse_array()+W1.average_mse_array()+W2.average_mse_array()+W3.average_mse_array()+W4.average_mse_array()+W5.average_mse_array())/6\n",
    "    mse.append(W0_MSE)\n",
    "\n",
    "    set_layer_weight(model.model.encoder.layers[0],atten_block_weight_array_0)\n",
    "    set_layer_weight(model.model.encoder.layers[1],atten_block_weight_array_1)\n",
    "    set_layer_weight(model.model.encoder.layers[2],atten_block_weight_array_2)\n",
    "    set_layer_weight(model.model.encoder.layers[3],atten_block_weight_array_3)\n",
    "    set_layer_weight(model.model.encoder.layers[4],atten_block_weight_array_4)\n",
    "    set_layer_weight(model.model.encoder.layers[5],atten_block_weight_array_5)\n",
    "    bleu = compute_bleu_score(model,source_texts,target_texts)\n",
    "    bleu_scores.append(bleu)\n"
   ]
  },
  {
   "cell_type": "code",
   "execution_count": 92,
   "metadata": {},
   "outputs": [
    {
     "data": {
      "text/plain": [
       "[0.018023651637322276, 0.017569384538518976, 0.017126227841415445]"
      ]
     },
     "execution_count": 92,
     "metadata": {},
     "output_type": "execute_result"
    }
   ],
   "source": [
    "mse"
   ]
  },
  {
   "cell_type": "code",
   "execution_count": 91,
   "metadata": {},
   "outputs": [
    {
     "data": {
      "text/plain": [
       "[3.5172708438923466, 4.066229357478371, 4.279874737677521]"
      ]
     },
     "execution_count": 91,
     "metadata": {},
     "output_type": "execute_result"
    }
   ],
   "source": [
    "bleu_scores"
   ]
  },
  {
   "cell_type": "code",
   "execution_count": 94,
   "metadata": {},
   "outputs": [
    {
     "data": {
      "image/png": "[encoded data removed]",
      "text/plain": [
       "<Figure size 1000x600 with 1 Axes>"
      ]
     },
     "metadata": {},
     "output_type": "display_data"
    }
   ],
   "source": [
    "# Plotting BLEU against MSE\n",
    "plt.figure(figsize=(10, 6))\n",
    "plt.plot(mse, bleu_scores, marker='o')\n",
    "plt.xlabel('MSE')\n",
    "plt.ylabel('BLEU Score')\n",
    "plt.title('BLEU Score vs. MSE')\n",
    "plt.grid(True)\n",
    "plt.show()"
   ]
  },
  {
   "cell_type": "code",
   "execution_count": 23,
   "metadata": {},
   "outputs": [
    {
     "data": {
      "image/png": "[encoded data removed]",
      "text/plain": [
       "<Figure size 1000x600 with 1 Axes>"
      ]
     },
     "metadata": {},
     "output_type": "display_data"
    }
   ],
   "source": [
    "import numpy as np\n",
    "import matplotlib.pyplot as plt\n",
    "from sklearn.decomposition import PCA\n",
    "\n",
    "# Example matrix (replace this with your actual matrix)\n",
    "matrix =  model.model.encoder.layers[1].self_attn.k_proj.weight.detach().clone().numpy() # 100 samples, 10 features\n",
    "\n",
    "# Perform PCA\n",
    "pca = PCA()\n",
    "pca.fit(matrix)\n",
    "\n",
    "# Explained variance\n",
    "explained_variance = pca.explained_variance_ratio_\n",
    "\n",
    "# Create the scree plot\n",
    "plt.figure(figsize=(10, 6))\n",
    "plt.plot(range(1, len(explained_variance) + 1), explained_variance, marker='o', linestyle='--')\n",
    "plt.title('Scree Plot')\n",
    "plt.xlabel('Principal Component')\n",
    "plt.ylabel('Explained Variance Ratio')\n",
    "plt.grid(True)\n",
    "plt.show()"
   ]
  },
  {
   "cell_type": "code",
   "execution_count": 24,
   "metadata": {},
   "outputs": [],
   "source": [
    "set_layer_weight(model.model.encoder.layers[0],original_atten_block_weight_array_0)\n",
    "set_layer_weight(model.model.encoder.layers[1],original_atten_block_weight_array_1)\n",
    "set_layer_weight(model.model.encoder.layers[2],original_atten_block_weight_array_2)\n",
    "set_layer_weight(model.model.encoder.layers[3],original_atten_block_weight_array_3)\n",
    "set_layer_weight(model.model.encoder.layers[4],original_atten_block_weight_array_4)\n",
    "set_layer_weight(model.model.encoder.layers[5],original_atten_block_weight_array_5)\n",
    "\n",
    "W0 = WeightArrayStepPruning(original_atten_block_weight_array_0,'array',0.001,1,1,512,512)\n",
    "W1 = WeightArrayStepPruning(original_atten_block_weight_array_1,'array',0.001,1,1,512,512)\n",
    "W2 = WeightArrayStepPruning(original_atten_block_weight_array_2,'array',0.001,1,1,512,512)\n",
    "W3 = WeightArrayStepPruning(original_atten_block_weight_array_3,'array',0.001,1,1,512,512)\n",
    "W4 = WeightArrayStepPruning(original_atten_block_weight_array_4,'array',0.001,1,1,512,512)\n",
    "W5 = WeightArrayStepPruning(original_atten_block_weight_array_5,'array',0.001,1,1,512,512)\n",
    "\n",
    "mse = []\n",
    "bleu_scores = []\n",
    "compression_ratio = []\n",
    "\n",
    "for i in range(150):\n",
    "        atten_block_weight_array_0 = W0.iterative_approximation_step1()\n",
    "        atten_block_weight_array_1 = W1.iterative_approximation_step1()\n",
    "        atten_block_weight_array_2 = W2.iterative_approximation_step1()\n",
    "        atten_block_weight_array_3 = W3.iterative_approximation_step1()\n",
    "        atten_block_weight_array_4 = W4.iterative_approximation_step1()\n",
    "        atten_block_weight_array_5 = W5.iterative_approximation_step1()\n",
    "\n",
    "for i in range(18):\n",
    "    for i in range(5):\n",
    "        atten_block_weight_array_0 = W0.iterative_approximation_step1()\n",
    "        atten_block_weight_array_1 = W1.iterative_approximation_step1()\n",
    "        atten_block_weight_array_2 = W2.iterative_approximation_step1()\n",
    "        atten_block_weight_array_3 = W3.iterative_approximation_step1()\n",
    "        atten_block_weight_array_4 = W4.iterative_approximation_step1()\n",
    "        atten_block_weight_array_5 = W5.iterative_approximation_step1()\n",
    "\n",
    "    W0_MSE = (W0.average_mse_array()+W1.average_mse_array()+W2.average_mse_array()+W3.average_mse_array()+W4.average_mse_array()+W5.average_mse_array())/6\n",
    "    mse.append(W0_MSE)\n",
    "    compression_ratio.append(W0.compression_ratio())\n",
    "\n",
    "    set_layer_weight(model.model.encoder.layers[0],atten_block_weight_array_0)\n",
    "    set_layer_weight(model.model.encoder.layers[1],atten_block_weight_array_1)\n",
    "    set_layer_weight(model.model.encoder.layers[2],atten_block_weight_array_2)\n",
    "    set_layer_weight(model.model.encoder.layers[3],atten_block_weight_array_3)\n",
    "    set_layer_weight(model.model.encoder.layers[4],atten_block_weight_array_4)\n",
    "    set_layer_weight(model.model.encoder.layers[5],atten_block_weight_array_5)\n",
    "    bleu = compute_bleu_score(model,source_texts,target_texts)\n",
    "    bleu_scores.append(bleu)"
   ]
  },
  {
   "cell_type": "code",
   "execution_count": 34,
   "metadata": {},
   "outputs": [],
   "source": [
    "np.save('mse.npy', mse)\n",
    "np.save('bleu_scores.npy', bleu_scores)\n",
    "np.save('compression_ratio.npy', compression_ratio)\n"
   ]
  },
  {
   "cell_type": "code",
   "execution_count": 80,
   "metadata": {},
   "outputs": [],
   "source": [
    "# Create a figure with two subplots\n",
    "fig, axs = plt.subplots(1, 2, figsize=(12, 5))\n",
    "\n",
    "# First subplot: BLEU Score vs. MSE\n",
    "axs[0].plot(mse, bleu_scores, marker='o', linestyle='-',label='BLEU')\n",
    "axs[0].axhline(baseline_bleu, color='red', linestyle='--',label='Baseline BLEU')  # Add a horizontal line at y=1\n",
    "axs[0].set_xlabel('MSE')\n",
    "axs[0].set_ylabel('BLEU Score')\n",
    "axs[0].set_title('BLEU Score vs. MSE')\n",
    "axs[0].grid(True)\n",
    "axs[0].legend()\n",
    "\n",
    "# Second subplot: Compression Ratio vs. MSE\n",
    "axs[1].plot(mse, compression_ratio, marker='o', linestyle='-', color='orange',label='Compression Ratio')\n",
    "axs[1].axhline(1, color='gray', linestyle='--',label='Baseline')  # Add a horizontal line at y=1\n",
    "axs[1].set_xlabel('MSE')\n",
    "axs[1].set_ylabel('Compression Ratio')\n",
    "axs[1].set_title('Compression Ratio vs. MSE')\n",
    "axs[1].grid(True)\n",
    "axs[1].legend()\n",
    "\n",
    "# Adjust layout\n",
    "plt.tight_layout()\n",
    "plt.show()"
   ]
  },
  {
   "cell_type": "code",
   "execution_count": 79,
   "metadata": {},
   "outputs": [],
   "source": [
    "set_layer_weight(model.model.encoder.layers[0],original_atten_block_weight_array_0)\n",
    "set_layer_weight(model.model.encoder.layers[1],original_atten_block_weight_array_1)\n",
    "set_layer_weight(model.model.encoder.layers[2],original_atten_block_weight_array_2)\n",
    "set_layer_weight(model.model.encoder.layers[3],original_atten_block_weight_array_3)\n",
    "set_layer_weight(model.model.encoder.layers[4],original_atten_block_weight_array_4)\n",
    "set_layer_weight(model.model.encoder.layers[5],original_atten_block_weight_array_5)\n",
    "\n",
    "W0 = WeightArrayStepPruning(original_atten_block_weight_array_0,'array',0.001,1,1,512,512)\n",
    "W1 = WeightArrayStepPruning(original_atten_block_weight_array_1,'array',0.001,1,1,512,512)\n",
    "W2 = WeightArrayStepPruning(original_atten_block_weight_array_2,'array',0.001,1,1,512,512)\n",
    "W3 = WeightArrayStepPruning(original_atten_block_weight_array_3,'array',0.001,1,1,512,512)\n",
    "W4 = WeightArrayStepPruning(original_atten_block_weight_array_4,'array',0.001,1,1,512,512)\n",
    "W5 = WeightArrayStepPruning(original_atten_block_weight_array_5,'array',0.001,1,1,512,512)\n",
    "\n",
    "mse1 = []\n",
    "bleu_scores1 = []\n",
    "compression_ratio1 = []\n",
    "\n",
    "for i in range(450):\n",
    "    print(i)\n",
    "    atten_block_weight_array_0 = W0.iterative_approximation_step2()\n",
    "    atten_block_weight_array_1 = W1.iterative_approximation_step2()\n",
    "    atten_block_weight_array_2 = W2.iterative_approximation_step2()\n",
    "    atten_block_weight_array_3 = W3.iterative_approximation_step2()\n",
    "    atten_block_weight_array_4 = W4.iterative_approximation_step2()\n",
    "    atten_block_weight_array_5 = W5.iterative_approximation_step2()\n",
    "\n",
    "for i in range(15):\n",
    "    print('eval')\n",
    "    print(i)\n",
    "    for j in range(20):\n",
    "        atten_block_weight_array_0 = W0.iterative_approximation_step2()\n",
    "        atten_block_weight_array_1 = W1.iterative_approximation_step2()\n",
    "        atten_block_weight_array_2 = W2.iterative_approximation_step2()\n",
    "        atten_block_weight_array_3 = W3.iterative_approximation_step2()\n",
    "        atten_block_weight_array_4 = W4.iterative_approximation_step2()\n",
    "        atten_block_weight_array_5 = W5.iterative_approximation_step2()\n",
    "\n",
    "    W0_MSE = (W0.average_mse_array()+W1.average_mse_array()+W2.average_mse_array()+W3.average_mse_array()+W4.average_mse_array()+W5.average_mse_array())/6\n",
    "    mse1.append(W0_MSE)\n",
    "    compression_ratio1.append(W0.compression_ratio())\n",
    "\n",
    "    set_layer_weight(model.model.encoder.layers[0],atten_block_weight_array_0)\n",
    "    set_layer_weight(model.model.encoder.layers[1],atten_block_weight_array_1)\n",
    "    set_layer_weight(model.model.encoder.layers[2],atten_block_weight_array_2)\n",
    "    set_layer_weight(model.model.encoder.layers[3],atten_block_weight_array_3)\n",
    "    set_layer_weight(model.model.encoder.layers[4],atten_block_weight_array_4)\n",
    "    set_layer_weight(model.model.encoder.layers[5],atten_block_weight_array_5)\n",
    "    bleu = compute_bleu_score(model,source_texts,target_texts)\n",
    "    bleu_scores1.append(bleu)"
   ]
  },
  {
   "cell_type": "code",
   "execution_count": 35,
   "metadata": {},
   "outputs": [],
   "source": [
    "np.save('mse1.npy', mse1)\n",
    "np.save('bleu_scores1.npy', bleu_scores1)\n",
    "np.save('compression_ratio1.npy', compression_ratio1)"
   ]
  },
  {
   "cell_type": "code",
   "execution_count": 78,
   "metadata": {},
   "outputs": [],
   "source": [
    "set_layer_weight(model.model.encoder.layers[0],original_atten_block_weight_array_0)\n",
    "set_layer_weight(model.model.encoder.layers[1],original_atten_block_weight_array_1)\n",
    "set_layer_weight(model.model.encoder.layers[2],original_atten_block_weight_array_2)\n",
    "set_layer_weight(model.model.encoder.layers[3],original_atten_block_weight_array_3)\n",
    "set_layer_weight(model.model.encoder.layers[4],original_atten_block_weight_array_4)\n",
    "set_layer_weight(model.model.encoder.layers[5],original_atten_block_weight_array_5)\n",
    "\n",
    "W0 = WeightArrayStepPruning(original_atten_block_weight_array_0,'weight',0.001,1,1,512,512)\n",
    "W1 = WeightArrayStepPruning(original_atten_block_weight_array_1,'weight',0.001,1,1,512,512)\n",
    "W2 = WeightArrayStepPruning(original_atten_block_weight_array_2,'weight',0.001,1,1,512,512)\n",
    "W3 = WeightArrayStepPruning(original_atten_block_weight_array_3,'weight',0.001,1,1,512,512)\n",
    "W4 = WeightArrayStepPruning(original_atten_block_weight_array_4,'weight',0.001,1,1,512,512)\n",
    "W5 = WeightArrayStepPruning(original_atten_block_weight_array_5,'weight',0.001,1,1,512,512)\n",
    "\n",
    "\n",
    "mse2 = []\n",
    "bleu_scores2 = []\n",
    "compression_ratio2 = []\n",
    "\n",
    "for i in range(210):\n",
    "        atten_block_weight_array_0 = W0.iterative_approximation_step3()\n",
    "        atten_block_weight_array_1 = W1.iterative_approximation_step3()\n",
    "        atten_block_weight_array_2 = W2.iterative_approximation_step3()\n",
    "        atten_block_weight_array_3 = W3.iterative_approximation_step3()\n",
    "        atten_block_weight_array_4 = W4.iterative_approximation_step3()\n",
    "        atten_block_weight_array_5 = W5.iterative_approximation_step3()\n",
    "        print(i)\n",
    "\n",
    "for i in range(16):\n",
    "    print('eval')\n",
    "    print(i)\n",
    "    for j in range(5):\n",
    "        atten_block_weight_array_0 = W0.iterative_approximation_step3()\n",
    "        atten_block_weight_array_1 = W1.iterative_approximation_step3()\n",
    "        atten_block_weight_array_2 = W2.iterative_approximation_step3()\n",
    "        atten_block_weight_array_3 = W3.iterative_approximation_step3()\n",
    "        atten_block_weight_array_4 = W4.iterative_approximation_step3()\n",
    "        atten_block_weight_array_5 = W5.iterative_approximation_step3()\n",
    "\n",
    "    W0_MSE = (W0.average_mse_weight()+W1.average_mse_weight()+W2.average_mse_weight()+W3.average_mse_weight()+W4.average_mse_weight()+W5.average_mse_weight())/6\n",
    "    mse2.append(W0_MSE)\n",
    "\n",
    "    compression_ratio2.append(W0.compression_ratio())\n",
    "    set_layer_weight(model.model.encoder.layers[0],atten_block_weight_array_0)\n",
    "    set_layer_weight(model.model.encoder.layers[1],atten_block_weight_array_1)\n",
    "    set_layer_weight(model.model.encoder.layers[2],atten_block_weight_array_2)\n",
    "    set_layer_weight(model.model.encoder.layers[3],atten_block_weight_array_3)\n",
    "    set_layer_weight(model.model.encoder.layers[4],atten_block_weight_array_4)\n",
    "    set_layer_weight(model.model.encoder.layers[5],atten_block_weight_array_5)\n",
    "    bleu = compute_bleu_score(model,source_texts,target_texts)\n",
    "    bleu_scores2.append(bleu)\n",
    "\n"
   ]
  },
  {
   "cell_type": "code",
   "execution_count": 49,
   "metadata": {},
   "outputs": [],
   "source": [
    "np.save('mse2.npy', mse2)\n",
    "np.save('bleu_scores2.npy', bleu_scores2)\n",
    "np.save('compression_ratio2.npy', compression_ratio2)"
   ]
  },
  {
   "cell_type": "code",
   "execution_count": 41,
   "metadata": {},
   "outputs": [
    {
     "data": {
      "text/plain": [
       "27"
      ]
     },
     "execution_count": 41,
     "metadata": {},
     "output_type": "execute_result"
    }
   ],
   "source": [
    "len(mse2)"
   ]
  },
  {
   "cell_type": "code",
   "execution_count": 37,
   "metadata": {},
   "outputs": [
    {
     "data": {
      "text/plain": [
       "27"
      ]
     },
     "execution_count": 37,
     "metadata": {},
     "output_type": "execute_result"
    }
   ],
   "source": [
    "len(compression_ratio2)"
   ]
  },
  {
   "cell_type": "code",
   "execution_count": 57,
   "metadata": {},
   "outputs": [
    {
     "data": {
      "image/png": "[encoded data removed]",
      "text/plain": [
       "<Figure size 1500x500 with 2 Axes>"
      ]
     },
     "metadata": {},
     "output_type": "display_data"
    }
   ],
   "source": [
    "# Create a figure with two subplots\n",
    "fig, axs = plt.subplots(1, 2, figsize=(15, 5))\n",
    "\n",
    "# First subplot: BLEU Score vs. MSE\n",
    "axs[0].plot(mse, bleu_scores, marker='o', linestyle='-', color='blue',label='BLEU Single')\n",
    "axs[0].plot(mse1, bleu_scores1, marker='o', linestyle='--', color='blue',label='BLEU Group')\n",
    "axs[0].plot(mse2, bleu_scores2, marker='o', linestyle='dotted', color='blue',label='BLEU Stack')\n",
    "axs[0].plot(mse3, bleu_scores3, marker='^', linestyle='dotted', color='blue',label='BLEU Hybrid')\n",
    "axs[0].axhline(baseline_bleu, color='red', linestyle='--',label='Baseline BLEU')  # Add a horizontal line at y=1\n",
    "axs[0].set_xlabel('MSE')\n",
    "axs[0].set_ylabel('BLEU Score')\n",
    "axs[0].set_title('BLEU Score vs. MSE')\n",
    "axs[0].grid(True)\n",
    "axs[0].set_xlim([0.0002, 0.00065])\n",
    "axs[0].legend()\n",
    "\n",
    "# Second subplot: Compression Ratio vs. MSE\n",
    "axs[1].plot(mse, compression_ratio, marker='o', linestyle='-',color='orange',label='Compression Ratio Single')\n",
    "axs[1].plot(mse1, compression_ratio1, marker='o', linestyle='--', color='orange',label='Compression Ratio Group')\n",
    "axs[1].plot(mse2, compression_ratio2, marker='o', linestyle='dotted', color='orange',label='Compression Ratio Stack')\n",
    "axs[1].plot(mse3, compression_ratio3, marker='^', linestyle='dotted', color='orange',label='Compression Ratio Hybrid')\n",
    "axs[1].axhline(1, color='gray', linestyle='--',label='Baseline')  # Add a horizontal line at y=1\n",
    "axs[1].set_xlabel('MSE')\n",
    "axs[1].set_ylabel('Compression Ratio')\n",
    "axs[1].set_title('Compression Ratio vs. MSE')\n",
    "axs[1].grid(True)\n",
    "axs[1].set_xlim([0.0002, 0.00065])\n",
    "axs[1].set_ylim([0.9, 1.8])\n",
    "axs[1].legend()\n",
    "\n",
    "# Adjust layout\n",
    "plt.tight_layout()\n",
    "plt.show()"
   ]
  },
  {
   "cell_type": "code",
   "execution_count": 75,
   "metadata": {},
   "outputs": [],
   "source": [
    "set_layer_weight(model.model.encoder.layers[0],original_atten_block_weight_array_0)\n",
    "set_layer_weight(model.model.encoder.layers[1],original_atten_block_weight_array_1)\n",
    "set_layer_weight(model.model.encoder.layers[2],original_atten_block_weight_array_2)\n",
    "set_layer_weight(model.model.encoder.layers[3],original_atten_block_weight_array_3)\n",
    "set_layer_weight(model.model.encoder.layers[4],original_atten_block_weight_array_4)\n",
    "set_layer_weight(model.model.encoder.layers[5],original_atten_block_weight_array_5)\n",
    "\n",
    "W0 = WeightArrayStepPruning(original_atten_block_weight_array_0,'weight',0.001,1,1,512,512)\n",
    "W1 = WeightArrayStepPruning(original_atten_block_weight_array_1,'weight',0.001,1,1,512,512)\n",
    "W2 = WeightArrayStepPruning(original_atten_block_weight_array_2,'weight',0.001,1,1,512,512)\n",
    "W3 = WeightArrayStepPruning(original_atten_block_weight_array_3,'weight',0.001,1,1,512,512)\n",
    "W4 = WeightArrayStepPruning(original_atten_block_weight_array_4,'weight',0.001,1,1,512,512)\n",
    "W5 = WeightArrayStepPruning(original_atten_block_weight_array_5,'weight',0.001,1,1,512,512)\n",
    "\n",
    "\n",
    "mse2_fro = []\n",
    "bleu_scores2_fro = []\n",
    "compression_ratio2_fro = []\n",
    "\n",
    "for i in range(90):\n",
    "        atten_block_weight_array_0 = W0.iterative_approximation_step3_norm('fro')\n",
    "        atten_block_weight_array_1 = W1.iterative_approximation_step3_norm('fro')\n",
    "        atten_block_weight_array_2 = W2.iterative_approximation_step3_norm('fro')\n",
    "        atten_block_weight_array_3 = W3.iterative_approximation_step3_norm('fro')\n",
    "        atten_block_weight_array_4 = W4.iterative_approximation_step3_norm('fro')\n",
    "        atten_block_weight_array_5 = W5.iterative_approximation_step3_norm('fro')\n",
    "        print(i)\n",
    "\n",
    "for i in range(1):\n",
    "    for i in range(5):\n",
    "        atten_block_weight_array_0 = W0.iterative_approximation_step3_norm('fro')\n",
    "        atten_block_weight_array_1 = W1.iterative_approximation_step3_norm('fro')\n",
    "        atten_block_weight_array_2 = W2.iterative_approximation_step3_norm('fro')\n",
    "        atten_block_weight_array_3 = W3.iterative_approximation_step3_norm('fro')\n",
    "        atten_block_weight_array_4 = W4.iterative_approximation_step3_norm('fro')\n",
    "        atten_block_weight_array_5 = W5.iterative_approximation_step3_norm('fro')\n",
    "\n",
    "    W0_MSE = (W0.average_mse_weight()+W1.average_mse_weight()+W2.average_mse_weight()+W3.average_mse_weight()+W4.average_mse_weight()+W5.average_mse_weight())/6\n",
    "    mse2_fro.append(W0_MSE)\n",
    "\n",
    "    compression_ratio2_fro.append(W0.compression_ratio())\n",
    "    set_layer_weight(model.model.encoder.layers[0],atten_block_weight_array_0)\n",
    "    set_layer_weight(model.model.encoder.layers[1],atten_block_weight_array_1)\n",
    "    set_layer_weight(model.model.encoder.layers[2],atten_block_weight_array_2)\n",
    "    set_layer_weight(model.model.encoder.layers[3],atten_block_weight_array_3)\n",
    "    set_layer_weight(model.model.encoder.layers[4],atten_block_weight_array_4)\n",
    "    set_layer_weight(model.model.encoder.layers[5],atten_block_weight_array_5)\n",
    "    bleu = compute_bleu_score(model,source_texts,target_texts)\n",
    "    bleu_scores2_fro.append(bleu)\n",
    "\n"
   ]
  },
  {
   "cell_type": "code",
   "execution_count": 56,
   "metadata": {},
   "outputs": [
    {
     "data": {
      "text/plain": [
       "[31.329054393175625]"
      ]
     },
     "execution_count": 56,
     "metadata": {},
     "output_type": "execute_result"
    }
   ],
   "source": [
    "bleu_scores2_fro"
   ]
  },
  {
   "cell_type": "code",
   "execution_count": 57,
   "metadata": {},
   "outputs": [
    {
     "data": {
      "text/plain": [
       "[4.039886087450677]"
      ]
     },
     "execution_count": 57,
     "metadata": {},
     "output_type": "execute_result"
    }
   ],
   "source": [
    "compression_ratio2_fro"
   ]
  },
  {
   "cell_type": "code",
   "execution_count": null,
   "metadata": {},
   "outputs": [],
   "source": [
    "set_layer_weight(model.model.encoder.layers[0],original_atten_block_weight_array_0)\n",
    "set_layer_weight(model.model.encoder.layers[1],original_atten_block_weight_array_1)\n",
    "set_layer_weight(model.model.encoder.layers[2],original_atten_block_weight_array_2)\n",
    "set_layer_weight(model.model.encoder.layers[3],original_atten_block_weight_array_3)\n",
    "set_layer_weight(model.model.encoder.layers[4],original_atten_block_weight_array_4)\n",
    "set_layer_weight(model.model.encoder.layers[5],original_atten_block_weight_array_5)\n",
    "\n",
    "W0 = WeightArrayStepPruning(original_atten_block_weight_array_0,'weight',0.001,1,1,512,512)\n",
    "W1 = WeightArrayStepPruning(original_atten_block_weight_array_1,'weight',0.001,1,1,512,512)\n",
    "W2 = WeightArrayStepPruning(original_atten_block_weight_array_2,'weight',0.001,1,1,512,512)\n",
    "W3 = WeightArrayStepPruning(original_atten_block_weight_array_3,'weight',0.001,1,1,512,512)\n",
    "W4 = WeightArrayStepPruning(original_atten_block_weight_array_4,'weight',0.001,1,1,512,512)\n",
    "W5 = WeightArrayStepPruning(original_atten_block_weight_array_5,'weight',0.001,1,1,512,512)\n",
    "\n",
    "\n",
    "mse2_spec = []\n",
    "bleu_scores2_spec = []\n",
    "compression_ratio2_spec = []\n",
    "\n",
    "for i in range(180):\n",
    "        atten_block_weight_array_0 = W0.iterative_approximation_step3_norm('spec')\n",
    "        atten_block_weight_array_1 = W1.iterative_approximation_step3_norm('spec')\n",
    "        atten_block_weight_array_2 = W2.iterative_approximation_step3_norm('spec')\n",
    "        atten_block_weight_array_3 = W3.iterative_approximation_step3_norm('spec')\n",
    "        atten_block_weight_array_4 = W4.iterative_approximation_step3_norm('spec')\n",
    "        atten_block_weight_array_5 = W5.iterative_approximation_step3_norm('spec')\n",
    "        print(i)\n",
    "\n",
    "for i in range(15):\n",
    "    for i in range(5):\n",
    "        atten_block_weight_array_0 = W0.iterative_approximation_step3_norm('spec')\n",
    "        atten_block_weight_array_1 = W1.iterative_approximation_step3_norm('spec')\n",
    "        atten_block_weight_array_2 = W2.iterative_approximation_step3_norm('spec')\n",
    "        atten_block_weight_array_3 = W3.iterative_approximation_step3_norm('spec')\n",
    "        atten_block_weight_array_4 = W4.iterative_approximation_step3_norm('spec')\n",
    "        atten_block_weight_array_5 = W5.iterative_approximation_step3_norm('spec')\n",
    "\n",
    "    W0_MSE = (W0.average_mse_weight()+W1.average_mse_weight()+W2.average_mse_weight()+W3.average_mse_weight()+W4.average_mse_weight()+W5.average_mse_weight())/6\n",
    "    mse2_spec.append(W0_MSE)\n",
    "\n",
    "    compression_ratio2_spec.append(W0.compression_ratio())\n",
    "    set_layer_weight(model.model.encoder.layers[0],atten_block_weight_array_0)\n",
    "    set_layer_weight(model.model.encoder.layers[1],atten_block_weight_array_1)\n",
    "    set_layer_weight(model.model.encoder.layers[2],atten_block_weight_array_2)\n",
    "    set_layer_weight(model.model.encoder.layers[3],atten_block_weight_array_3)\n",
    "    set_layer_weight(model.model.encoder.layers[4],atten_block_weight_array_4)\n",
    "    set_layer_weight(model.model.encoder.layers[5],atten_block_weight_array_5)\n",
    "    bleu = compute_bleu_score(model,source_texts,target_texts)\n",
    "    bleu_scores2_spec.append(bleu)"
   ]
  },
  {
   "cell_type": "code",
   "execution_count": 76,
   "metadata": {},
   "outputs": [],
   "source": [
    "set_layer_weight(model.model.encoder.layers[0],original_atten_block_weight_array_0)\n",
    "set_layer_weight(model.model.encoder.layers[1],original_atten_block_weight_array_1)\n",
    "set_layer_weight(model.model.encoder.layers[2],original_atten_block_weight_array_2)\n",
    "set_layer_weight(model.model.encoder.layers[3],original_atten_block_weight_array_3)\n",
    "set_layer_weight(model.model.encoder.layers[4],original_atten_block_weight_array_4)\n",
    "set_layer_weight(model.model.encoder.layers[5],original_atten_block_weight_array_5)\n",
    "\n",
    "W0 = WeightArrayStepPruning(original_atten_block_weight_array_0,'array',0.001,1,1,512,512)\n",
    "W1 = WeightArrayStepPruning(original_atten_block_weight_array_1,'array',0.001,1,1,512,512)\n",
    "W2 = WeightArrayStepPruning(original_atten_block_weight_array_2,'array',0.001,1,1,512,512)\n",
    "W3 = WeightArrayStepPruning(original_atten_block_weight_array_3,'array',0.001,1,1,512,512)\n",
    "W4 = WeightArrayStepPruning(original_atten_block_weight_array_4,'array',0.001,1,1,512,512)\n",
    "W5 = WeightArrayStepPruning(original_atten_block_weight_array_5,'array',0.001,1,1,512,512)\n",
    "\n",
    "mse3 = []\n",
    "bleu_scores3 = []\n",
    "compression_ratio3 = []\n",
    "\n",
    "for i in range(150):\n",
    "    print('group')\n",
    "    print(i)\n",
    "    atten_block_weight_array_0 = W0.iterative_approximation_step2()\n",
    "    atten_block_weight_array_1 = W1.iterative_approximation_step2()\n",
    "    atten_block_weight_array_2 = W2.iterative_approximation_step2()\n",
    "    atten_block_weight_array_3 = W3.iterative_approximation_step2()\n",
    "    atten_block_weight_array_4 = W4.iterative_approximation_step2()\n",
    "    atten_block_weight_array_5 = W5.iterative_approximation_step2()\n",
    "\n",
    "for i in range(30):\n",
    "    print('single')\n",
    "    print(i)\n",
    "    atten_block_weight_array_0 = W0.iterative_approximation_step1()\n",
    "    atten_block_weight_array_1 = W1.iterative_approximation_step1()\n",
    "    atten_block_weight_array_2 = W2.iterative_approximation_step1()\n",
    "    atten_block_weight_array_3 = W3.iterative_approximation_step1()\n",
    "    atten_block_weight_array_4 = W4.iterative_approximation_step1()\n",
    "    atten_block_weight_array_5 = W5.iterative_approximation_step1()\n",
    "\n",
    "\n",
    "for i in range(17):\n",
    "    print('eval')\n",
    "    print(i)\n",
    "    for j in range(5):\n",
    "        atten_block_weight_array_0 = W0.iterative_approximation_step1()\n",
    "        atten_block_weight_array_1 = W1.iterative_approximation_step1()\n",
    "        atten_block_weight_array_2 = W2.iterative_approximation_step1()\n",
    "        atten_block_weight_array_3 = W3.iterative_approximation_step1()\n",
    "        atten_block_weight_array_4 = W4.iterative_approximation_step1()\n",
    "        atten_block_weight_array_5 = W5.iterative_approximation_step1()\n",
    "\n",
    "    W0_MSE = (W0.average_mse_array()+W1.average_mse_array()+W2.average_mse_array()+W3.average_mse_array()+W4.average_mse_array()+W5.average_mse_array())/6\n",
    "    mse3.append(W0_MSE)\n",
    "    compression_ratio3.append(W0.compression_ratio())\n",
    "\n",
    "    set_layer_weight(model.model.encoder.layers[0],atten_block_weight_array_0)\n",
    "    set_layer_weight(model.model.encoder.layers[1],atten_block_weight_array_1)\n",
    "    set_layer_weight(model.model.encoder.layers[2],atten_block_weight_array_2)\n",
    "    set_layer_weight(model.model.encoder.layers[3],atten_block_weight_array_3)\n",
    "    set_layer_weight(model.model.encoder.layers[4],atten_block_weight_array_4)\n",
    "    set_layer_weight(model.model.encoder.layers[5],atten_block_weight_array_5)\n",
    "    bleu = compute_bleu_score(model,source_texts,target_texts)\n",
    "    bleu_scores3.append(bleu)"
   ]
  },
  {
   "cell_type": "code",
   "execution_count": null,
   "metadata": {},
   "outputs": [],
   "source": [
    "set_layer_weight(model.model.encoder.layers[0],original_atten_block_weight_array_0)"
   ]
  },
  {
   "cell_type": "code",
   "execution_count": 77,
   "metadata": {},
   "outputs": [],
   "source": [
    "# Create a figure with two subplots\n",
    "fig, axs = plt.subplots(1, 2, figsize=(15, 5))\n",
    "\n",
    "# First subplot: BLEU Score vs. MSE\n",
    "axs[0].plot(mse3, bleu_scores3, marker='o', linestyle='--', color='blue',label='BLEU Group')\n",
    "axs[0].axhline(baseline_bleu, color='red', linestyle='--',label='Baseline BLEU')  # Add a horizontal line at y=1\n",
    "axs[0].set_xlabel('MSE')\n",
    "axs[0].set_ylabel('BLEU Score')\n",
    "axs[0].set_title('BLEU Score vs. MSE')\n",
    "axs[0].grid(True)\n",
    "# axs[0].set_xlim([0.0002, 0.00065])\n",
    "axs[0].legend()\n",
    "\n",
    "# Second subplot: Compression Ratio vs. MSE\n",
    "axs[1].plot(mse3, compression_ratio3, marker='o', linestyle='--', color='orange',label='Compression Ratio Group')\n",
    "axs[1].axhline(1, color='gray', linestyle='--',label='Baseline')  # Add a horizontal line at y=1\n",
    "axs[1].set_xlabel('MSE')\n",
    "axs[1].set_ylabel('Compression Ratio')\n",
    "axs[1].set_title('Compression Ratio vs. MSE')\n",
    "axs[1].grid(True)\n",
    "# axs[1].set_xlim([0.0002, 0.00065])\n",
    "# axs[1].set_ylim([0.5, 2])\n",
    "axs[1].legend()\n",
    "\n",
    "# Adjust layout\n",
    "plt.tight_layout()\n",
    "plt.show()"
   ]
  },
  {
   "cell_type": "code",
   "execution_count": 58,
   "metadata": {},
   "outputs": [],
   "source": [
    "np.save('mse3.npy', mse3)\n",
    "np.save('bleu_scores3.npy', bleu_scores3)\n",
    "np.save('compression_ratio3.npy', compression_ratio3)"
   ]
  },
  {
   "cell_type": "code",
   "execution_count": 71,
   "metadata": {},
   "outputs": [
    {
     "name": "stdout",
     "output_type": "stream",
     "text": [
      "46.82103167541074\n"
     ]
    }
   ],
   "source": [
    "set_layer_weight(model.model.encoder.layers[0],original_atten_block_weight_array_0)\n",
    "set_layer_weight(model.model.encoder.layers[1],original_atten_block_weight_array_1)\n",
    "set_layer_weight(model.model.encoder.layers[2],original_atten_block_weight_array_2)\n",
    "set_layer_weight(model.model.encoder.layers[3],original_atten_block_weight_array_3)\n",
    "set_layer_weight(model.model.encoder.layers[4],original_atten_block_weight_array_4)\n",
    "set_layer_weight(model.model.encoder.layers[5],original_atten_block_weight_array_5)\n",
    "\n",
    "\n",
    "set_layer_weight(model.model.encoder.layers[0],original_atten_block_weight_array_0,True,32)\n",
    "set_layer_weight(model.model.encoder.layers[1],original_atten_block_weight_array_1,True,32)\n",
    "set_layer_weight(model.model.encoder.layers[2],original_atten_block_weight_array_2,True,32)\n",
    "set_layer_weight(model.model.encoder.layers[3],original_atten_block_weight_array_3,True,32)\n",
    "set_layer_weight(model.model.encoder.layers[4],original_atten_block_weight_array_4,True,32)\n",
    "set_layer_weight(model.model.encoder.layers[5],original_atten_block_weight_array_5,True,32)\n",
    "\n",
    "bleu32 = compute_bleu_score(model,source_texts,target_texts)\n",
    "\n",
    "print(bleu32)\n",
    "\n",
    "set_layer_weight(model.model.encoder.layers[0],original_atten_block_weight_array_0)\n",
    "set_layer_weight(model.model.encoder.layers[1],original_atten_block_weight_array_1)\n",
    "set_layer_weight(model.model.encoder.layers[2],original_atten_block_weight_array_2)\n",
    "set_layer_weight(model.model.encoder.layers[3],original_atten_block_weight_array_3)\n",
    "set_layer_weight(model.model.encoder.layers[4],original_atten_block_weight_array_4)\n",
    "set_layer_weight(model.model.encoder.layers[5],original_atten_block_weight_array_5)"
   ]
  },
  {
   "cell_type": "code",
   "execution_count": 72,
   "metadata": {},
   "outputs": [
    {
     "name": "stdout",
     "output_type": "stream",
     "text": [
      "46.855246650712154\n"
     ]
    }
   ],
   "source": [
    "set_layer_weight(model.model.encoder.layers[0],original_atten_block_weight_array_0)\n",
    "set_layer_weight(model.model.encoder.layers[1],original_atten_block_weight_array_1)\n",
    "set_layer_weight(model.model.encoder.layers[2],original_atten_block_weight_array_2)\n",
    "set_layer_weight(model.model.encoder.layers[3],original_atten_block_weight_array_3)\n",
    "set_layer_weight(model.model.encoder.layers[4],original_atten_block_weight_array_4)\n",
    "set_layer_weight(model.model.encoder.layers[5],original_atten_block_weight_array_5)\n",
    "\n",
    "\n",
    "set_layer_weight(model.model.encoder.layers[0],original_atten_block_weight_array_0,True,16)\n",
    "set_layer_weight(model.model.encoder.layers[1],original_atten_block_weight_array_1,True,16)\n",
    "set_layer_weight(model.model.encoder.layers[2],original_atten_block_weight_array_2,True,16)\n",
    "set_layer_weight(model.model.encoder.layers[3],original_atten_block_weight_array_3,True,16)\n",
    "set_layer_weight(model.model.encoder.layers[4],original_atten_block_weight_array_4,True,16)\n",
    "set_layer_weight(model.model.encoder.layers[5],original_atten_block_weight_array_5,True,16)\n",
    "\n",
    "bleu16 = compute_bleu_score(model,source_texts,target_texts)\n",
    "\n",
    "print(bleu16)\n",
    "\n",
    "set_layer_weight(model.model.encoder.layers[0],original_atten_block_weight_array_0)\n",
    "set_layer_weight(model.model.encoder.layers[1],original_atten_block_weight_array_1)\n",
    "set_layer_weight(model.model.encoder.layers[2],original_atten_block_weight_array_2)\n",
    "set_layer_weight(model.model.encoder.layers[3],original_atten_block_weight_array_3)\n",
    "set_layer_weight(model.model.encoder.layers[4],original_atten_block_weight_array_4)"
   ]
  },
  {
   "cell_type": "code",
   "execution_count": 73,
   "metadata": {},
   "outputs": [
    {
     "name": "stdout",
     "output_type": "stream",
     "text": [
      "44.28898418544136\n"
     ]
    }
   ],
   "source": [
    "set_layer_weight(model.model.encoder.layers[0],original_atten_block_weight_array_0)\n",
    "set_layer_weight(model.model.encoder.layers[1],original_atten_block_weight_array_1)\n",
    "set_layer_weight(model.model.encoder.layers[2],original_atten_block_weight_array_2)\n",
    "set_layer_weight(model.model.encoder.layers[3],original_atten_block_weight_array_3)\n",
    "set_layer_weight(model.model.encoder.layers[4],original_atten_block_weight_array_4)\n",
    "set_layer_weight(model.model.encoder.layers[5],original_atten_block_weight_array_5)\n",
    "\n",
    "\n",
    "set_layer_weight(model.model.encoder.layers[0],original_atten_block_weight_array_0,True,8)\n",
    "set_layer_weight(model.model.encoder.layers[1],original_atten_block_weight_array_1,True,8)\n",
    "set_layer_weight(model.model.encoder.layers[2],original_atten_block_weight_array_2,True,8)\n",
    "set_layer_weight(model.model.encoder.layers[3],original_atten_block_weight_array_3,True,8)\n",
    "set_layer_weight(model.model.encoder.layers[4],original_atten_block_weight_array_4,True,8)\n",
    "set_layer_weight(model.model.encoder.layers[5],original_atten_block_weight_array_5,True,8)\n",
    "\n",
    "bleu8 = compute_bleu_score(model,source_texts,target_texts)\n",
    "\n",
    "print(bleu8)\n",
    "\n",
    "set_layer_weight(model.model.encoder.layers[0],original_atten_block_weight_array_0)\n",
    "set_layer_weight(model.model.encoder.layers[1],original_atten_block_weight_array_1)\n",
    "set_layer_weight(model.model.encoder.layers[2],original_atten_block_weight_array_2)\n",
    "set_layer_weight(model.model.encoder.layers[3],original_atten_block_weight_array_3)\n",
    "set_layer_weight(model.model.encoder.layers[4],original_atten_block_weight_array_4)"
   ]
  }
 ],
 "metadata": {
  "kernelspec": {
   "display_name": "llm",
   "language": "python",
   "name": "python3"
  },
  "language_info": {
   "codemirror_mode": {
    "name": "ipython",
    "version": 3
   },
   "file_extension": ".py",
   "mimetype": "text/x-python",
   "name": "python",
   "nbconvert_exporter": "python",
   "pygments_lexer": "ipython3",
   "version": "3.11.10"
  }
 },
 "nbformat": 4,
 "nbformat_minor": 2
}
